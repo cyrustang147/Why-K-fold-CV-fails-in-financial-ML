{
 "cells": [
  {
   "cell_type": "code",
   "execution_count": null,
   "id": "29151c01",
   "metadata": {},
   "outputs": [],
   "source": [
    "import numpy as np\n",
    "from tensorflow import keras\n",
    "from tensorflow.keras import layers\n",
    "from typing import Dict, Tuple\n",
    "import matplotlib.pyplot as plt\n",
    "from sklearn.model_selection import KFold\n",
    "from model import arreturn, features_label, flawed_model, kfold_cv"
   ]
  },
  {
   "cell_type": "code",
   "execution_count": null,
   "id": "af6121f5",
   "metadata": {},
   "outputs": [],
   "source": [
    "# -----------------------------\n",
    "# simulate returns & quick plot\n",
    "# -----------------------------\n",
    "seed = 76\n",
    "rng = np.random.default_rng(seed)\n",
    "returns, alphas = arreturn(rng)   # alphas shape = (n, 2)\n",
    "\n",
    "# Plot returns and alpha coefficients\n",
    "plt.figure(figsize=(12,4))\n",
    "plt.plot(returns, label='returns')\n",
    "plt.plot(alphas[:,0], label='alpha1')   # first AR coefficient over time\n",
    "plt.plot(alphas[:,1], label='alpha2')   # second AR coefficient over time\n",
    "plt.title('Simulated returns with regime coefficients')\n",
    "plt.legend()\n",
    "plt.show()\n",
    "\n",
    "# -----------------------------\n",
    "# Prepare training data (in-sample)\n",
    "# -----------------------------\n",
    "returns_train = returns[0:404]   # using an early slice for training experiments\n",
    "X, Y = features_label(returns_train)\n",
    "\n",
    "# Train a model on the whole training block and report in-sample loss\n",
    "full_model = flawed_model(X.shape[1])\n",
    "\n",
    "history = full_model.fit(\n",
    "    X, Y,\n",
    "    epochs=100,\n",
    "    batch_size=32,\n",
    "    verbose=0\n",
    ")\n",
    "\n",
    "# Plot the convergence in training error\n",
    "plt.figure(figsize=(12,4))\n",
    "plt.plot(history.history['loss'], marker = 'D', ms = 3.0)\n",
    "plt.title('training loss after each epoch')\n",
    "plt.show()\n",
    "\n",
    "print('final training error:', history.history['loss'][-1])\n",
    "\n",
    "\n",
    "# -----------------------------\n",
    "# K-fold cross-validation (contiguous blocks)\n",
    "# -----------------------------\n",
    "\n",
    "val_losses = kfold_cv(X, Y)\n",
    "\n",
    "print(\"\\nMean CV loss:\", np.mean(val_losses))\n",
    "print(\"Std CV loss:\", np.std(val_losses))\n",
    "\n",
    "\n",
    "# -----------------------------\n",
    "# True out-of-sample test (far future slice)\n",
    "# -----------------------------\n",
    "returns_test = returns[3000:]               # a future block far away\n",
    "X_test, Y_test = features_label(returns_test)\n",
    "test_loss = full_model.evaluate(X_test, Y_test, verbose=0)   # using full model trained on entire returns_train\n",
    "\n",
    "print('test loss:', test_loss)\n"
   ]
  },
  {
   "cell_type": "code",
   "execution_count": null,
   "id": "9331148a",
   "metadata": {},
   "outputs": [],
   "source": []
  }
 ],
 "metadata": {
  "kernelspec": {
   "display_name": "Python 3",
   "language": "python",
   "name": "python3"
  },
  "language_info": {
   "codemirror_mode": {
    "name": "ipython",
    "version": 3
   },
   "file_extension": ".py",
   "mimetype": "text/x-python",
   "name": "python",
   "nbconvert_exporter": "python",
   "pygments_lexer": "ipython3",
   "version": "3.13.3"
  }
 },
 "nbformat": 4,
 "nbformat_minor": 5
}
