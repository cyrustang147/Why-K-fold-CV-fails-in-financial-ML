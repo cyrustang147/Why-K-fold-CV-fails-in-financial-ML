{
 "cells": [
  {
   "cell_type": "code",
   "execution_count": null,
   "id": "29151c01",
   "metadata": {},
   "outputs": [],
   "source": [
    "import numpy as np\n",
    "from tensorflow import keras\n",
    "from tensorflow.keras import layers\n",
    "from typing import Dict, Tuple\n",
    "import matplotlib.pyplot as plt\n",
    "from sklearn.model_selection import KFold\n",
    "from model import arreturn, features_label, flawed_model, kfold_cv\n",
    "import yfinance as yf"
   ]
  },
  {
   "cell_type": "code",
   "execution_count": null,
   "id": "af6121f5",
   "metadata": {},
   "outputs": [],
   "source": [
    "# -----------------------------\n",
    "# simulate returns & quick plot\n",
    "# -----------------------------\n",
    "seed = 76\n",
    "rng = np.random.default_rng(seed)\n",
    "returns, alphas = arreturn(rng)   # alphas shape = (n, 2)\n",
    "\n",
    "# Plot returns and alpha coefficients\n",
    "plt.figure(figsize=(12,4))\n",
    "plt.plot(returns, label='returns')\n",
    "plt.plot(alphas[:,0], label='alpha1')   # first AR coefficient over time\n",
    "plt.plot(alphas[:,1], label='alpha2')   # second AR coefficient over time\n",
    "plt.title('Simulated returns with regime coefficients')\n",
    "plt.legend()\n",
    "plt.show()"
   ]
  },
  {
   "cell_type": "code",
   "execution_count": null,
   "id": "9331148a",
   "metadata": {},
   "outputs": [],
   "source": [
    "# -----------------------------\n",
    "# Prepare training data (in-sample)\n",
    "# -----------------------------\n",
    "returns_train = returns[0:404]   # using an early slice for training experiments\n",
    "X, Y = features_label(returns_train, q = 4) # q = 4 means using 4 previous returns to predict the next return"
   ]
  },
  {
   "cell_type": "code",
   "execution_count": null,
   "id": "b31e7291",
   "metadata": {},
   "outputs": [],
   "source": [
    "# Train a model on the whole training block and report in-sample loss\n",
    "full_model = flawed_model(X.shape[1])\n",
    "\n",
    "history = full_model.fit(\n",
    "    X, Y,\n",
    "    epochs=100,\n",
    "    batch_size=32,\n",
    "    verbose=0\n",
    ")\n",
    "\n",
    "# Plot the convergence in training error\n",
    "plt.figure(figsize=(12,4))\n",
    "plt.plot(history.history['loss'], marker = 'D', ms = 3.0)\n",
    "plt.title('training loss after each epoch')\n",
    "plt.show()"
   ]
  },
  {
   "cell_type": "code",
   "execution_count": null,
   "id": "ea890c2f",
   "metadata": {},
   "outputs": [],
   "source": [
    "# -----------------------------\n",
    "# K-fold cross-validation (no shuffle)\n",
    "# -----------------------------\n",
    "\n",
    "val_losses = kfold_cv(X, Y)         # default is 20 splits, learning rate = 1e-4 and 100 epochs"
   ]
  },
  {
   "cell_type": "code",
   "execution_count": null,
   "id": "54e38ca7",
   "metadata": {},
   "outputs": [],
   "source": [
    "# -----------------------------\n",
    "# True out-of-sample test (far future slice)\n",
    "# -----------------------------\n",
    "returns_test = returns[3000:]               # a future block far away\n",
    "X_test, Y_test = features_label(returns_test)\n",
    "test_loss = full_model.evaluate(X_test, Y_test, verbose=0)   # using full model trained on entire returns_test"
   ]
  },
  {
   "cell_type": "code",
   "execution_count": null,
   "id": "c65d48ce",
   "metadata": {},
   "outputs": [],
   "source": [
    "# Print results\n",
    "\n",
    "print('final training error:', history.history['loss'][-1])\n",
    "print(\"\\nMean CV loss:\", np.mean(val_losses))\n",
    "print(\"Std CV loss:\", np.std(val_losses))\n",
    "print('test loss:', test_loss)"
   ]
  },
  {
   "cell_type": "code",
   "execution_count": null,
   "id": "a0a0577a",
   "metadata": {},
   "outputs": [],
   "source": [
    "# Import S&P 500 data from yahoo finance\n",
    "ticker = yf.Ticker('^GSPC')\n",
    "SPX_data = ticker.history(start = \"2000-01-01\", end = \"2025-09-01\")\n",
    "SPX_close = SPX_data['Close'].tolist()\n",
    "SPX_returns = [(SPX_close[i + 1]/ SPX_close[i] - 1) * 100 for i in range(len(SPX_close) - 1)] # SPX daily returns (* 100 for better visualisation)\n",
    "\n",
    "# Plot returns\n",
    "plt.figure(figsize=(12,4))\n",
    "plt.plot(SPX_returns)\n",
    "plt.title('S&P 500 daily returns (%)')\n",
    "plt.show()"
   ]
  },
  {
   "cell_type": "code",
   "execution_count": null,
   "id": "0523690b",
   "metadata": {},
   "outputs": [],
   "source": [
    "spx_train = SPX_returns[0:206]   # using an early slice for training experiments\n",
    "X, Y = features_label(spx_train, q = 6) # increasing q to 6 to fit better\n",
    "\n",
    "# Train a model on the whole training block and report in-sample loss\n",
    "spx_full_model = flawed_model(X.shape[1], learning_rate = 0.002) # increase earning rate to 0.002 to boost convergence\n",
    "\n",
    "history = spx_full_model.fit(\n",
    "    X, Y,\n",
    "    epochs=100,\n",
    "    batch_size=16,\n",
    "    verbose=0\n",
    ")\n",
    "\n",
    "# Plot the convergence in training error\n",
    "plt.figure(figsize=(12,4))\n",
    "plt.plot(history.history['loss'], marker = 'D', ms = 3.0)\n",
    "plt.title('training loss after each epoch')\n",
    "plt.show()"
   ]
  },
  {
   "cell_type": "code",
   "execution_count": null,
   "id": "479f7d45",
   "metadata": {},
   "outputs": [],
   "source": [
    "# k-fold CV\n",
    "\n",
    "val_losses = kfold_cv(X, Y, n_splits = 50, learning_rate= 0.002) # 50 splits (each group has 4 observations)"
   ]
  },
  {
   "cell_type": "code",
   "execution_count": null,
   "id": "9ef580c9",
   "metadata": {},
   "outputs": [],
   "source": [
    "# True out-of-sample test (far future slice)\n",
    "\n",
    "spx_test = SPX_returns[2000:]               # a future block \n",
    "X_test, Y_test = features_label(spx_test, q = 6)\n",
    "test_loss = spx_full_model.evaluate(X_test, Y_test, verbose=0)   # using full model trained on entire test data"
   ]
  },
  {
   "cell_type": "code",
   "execution_count": null,
   "id": "dd7e0ed5",
   "metadata": {},
   "outputs": [],
   "source": [
    "# Results\n",
    "print('Final training error:', history.history['loss'][-1])\n",
    "\n",
    "print(\"\\nMean CV loss:\", np.mean(val_losses))\n",
    "print(\"Std CV loss:\", np.std(val_losses))\n",
    "\n",
    "print('Test loss:', test_loss)"
   ]
  }
 ],
 "metadata": {
  "kernelspec": {
   "display_name": "Python 3",
   "language": "python",
   "name": "python3"
  },
  "language_info": {
   "codemirror_mode": {
    "name": "ipython",
    "version": 3
   },
   "file_extension": ".py",
   "mimetype": "text/x-python",
   "name": "python",
   "nbconvert_exporter": "python",
   "pygments_lexer": "ipython3",
   "version": "3.13.3"
  }
 },
 "nbformat": 4,
 "nbformat_minor": 5
}
